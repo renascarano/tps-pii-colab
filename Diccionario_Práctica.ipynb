{
  "nbformat": 4,
  "nbformat_minor": 0,
  "metadata": {
    "colab": {
      "provenance": [],
      "include_colab_link": true
    },
    "kernelspec": {
      "name": "python3",
      "display_name": "Python 3"
    },
    "language_info": {
      "name": "python"
    }
  },
  "cells": [
    {
      "cell_type": "markdown",
      "metadata": {
        "id": "view-in-github",
        "colab_type": "text"
      },
      "source": [
        "<a href=\"https://colab.research.google.com/github/renascarano/tps-pii-colab/blob/main/Diccionario_Pr%C3%A1ctica.ipynb\" target=\"_parent\"><img src=\"https://colab.research.google.com/assets/colab-badge.svg\" alt=\"Open In Colab\"/></a>"
      ]
    },
    {
      "cell_type": "code",
      "execution_count": 1,
      "metadata": {
        "id": "8VOD-zpMJovw"
      },
      "outputs": [],
      "source": [
        "# Listas de alumnos\n",
        "estudiantes_5d = [\n",
        "   (\"Alurralde, Solange Stefania\",\"D\",\"02/04/2007\"),\n",
        "   (\"Alvarado, Ludmila Del Milagro\",\"D\",\"06/09/2006\"),\n",
        "   (\"Angel, Camila Juliana\",\"D\",\"07/03/2007\"),\n",
        "   (\"Arenas, Lucas Gabriel\",\"D\",\"26/06/2007\"),\n",
        "   (\"Caseres, Maria Antonia\",\"D\",\"01/07/2006\"),\n",
        "   (\"Castillo, Paulina Milagros\",\"D\",\"01/06/2007\"),\n",
        "   (\"Correa Segovia, Hugo Mariano\",\"D\",\"04/12/2006\"),\n",
        "   (\"D Elia, Alvaro Tadeo\",\"D\",\"27/08/2006\"),\n",
        "   (\"Flores, Victoria Agustina\",\"D\",\"12/12/2006\"),\n",
        "   (\"Geronimo Soriano, Lizzie Amaya\",\"D\",\"20/01/2007\"),\n",
        "   (\"GUZMAN, ANGÉLICA MORENA\",\"D\",\"11/04/2007\"),\n",
        "   (\"Guzman, Jazmin Esmeralda Belen\",\"D\",\"31/07/2006\"),\n",
        "   (\"Jaime, Anita Maria Belen\",\"D\",\"19/04/2007\"),\n",
        "   (\"Lacour Polo, Nazarena\",\"D\",\"19/12/2005\"),\n",
        "   (\"Lascano Guanca, Marcelo Fabricio\",\"D\",\"17/02/2006\"),\n",
        "   (\"Lezcano, Celia Morena\",\"D\",\"01/07/2005\"),\n",
        "   (\"Martinez, Tomas Andres\",\"D\",\"22/03/2007\"),\n",
        "   (\"PORTELLA VALDIVIA, PEDRO FRANCISCO\",\"D\",\"24/01/2007\"),\n",
        "   (\"Retamal Cisneros, Zacarias Josue\",\"D\",\"24/02/2007\"),\n",
        "   (\"Rosales, Francisco Gabriel\",\"D\",\"14/11/2006\"),\n",
        "   (\"Salem Barba, Mahia\",\"D\",\"14/10/2005\"),\n",
        "   (\"Soto Camara, Agustin Ignacio\",\"D\",\"07/11/2005\"),\n",
        "   (\"Villalba, Irina\",\"D\",\"09/09/2006\"),\n",
        "   (\"Voltolini, Emanuel Tobias\",\"D\",\"17/09/2006\"),\n",
        "   (\"Zalazar, Santino Stefano\",\"D\",\"30/09/2006\")\n",
        "]\n",
        "\n",
        "estudiantes_5c=[\n",
        "    (\"ABUD LASPIUR, LOURDES MARIEL\",\"C\",\"05/12/2006\"),\n",
        "    (\"Amador, Luana Micaela\",\"C\",\"09/12/2006\"),\n",
        "    (\"Anaquin, Leonardo Ezequiel\",\"C\",\"06/09/2005\"),\n",
        "    (\"Araoz Sanchez, Lautaro Nahuel\",\"C\",\"28/12/2005\"),\n",
        "    (\"Argañaraz, Agostina Abril\",\"C\",\"11/10/2006\"),\n",
        "    (\"Barrera, Matias Ezequiel\",\"C\",\"27/02/2007\"),\n",
        "    (\"Barrozo Vedia, Joaquin Nicolas\",\"C\",\"15/04/2006\"),\n",
        "    (\"Bettinelli, Valentino\",\"C\",\"12/07/2006\"),\n",
        "    (\"Bracamonte Martinez, Salvador\",\"C\",\"02/11/2005\"),\n",
        "    (\"Colque Rivero, Ariana Zoe Del Valle\",\"C\",\"27/12/2006\"),\n",
        "    (\"Diaz, Dulce Maitena\",\"C\",\"11/12/2006\"),\n",
        "    (\"FIGUEROA, SANTINO JOSUE\",\"C\",\"12/05/2007\"),\n",
        "    (\"Flores Cardozo, Agustina Tiara\",\"C\",\"18/03/2006\"),\n",
        "    (\"Gallo, Octavio Ismael\",\"C\",\"04/08/2006\"),\n",
        "    (\"Galvan, Lourdes Yamila\",\"C\",\"19/08/2005\"),\n",
        "    (\"Giangreco, Vitto Tomasso\",\"C\",\"21/03/2007\"),\n",
        "    (\"Grancara, Martina Luna\",\"C\",\"15/12/2006\"),\n",
        "    (\"Guanca, Sara Elizabeth\",\"C\",\"17/01/2007\"),\n",
        "    (\"Lopez, Victoria Constanza\",\"C\",\"12/11/2007\"),\n",
        "    (\"Mamani Garrido, Rosario Agostina\",\"C\",\"24/10/2006\"),\n",
        "    (\"Marinaro, Martin Ezequiel\",\"C\",\"03/11/2006\"),\n",
        "    (\"Merluzzi Dagum, Ignacio\",\"C\",\"22/12/2005\"),\n",
        "    (\"Messina, Martina\",\"C\",\"13/07/2005\"),\n",
        "    (\"RASUK, KARIM\", \"C\",\"13/07/2007\"),\n",
        "    (\"Rios, Lucia Magali\",\"C\",\"22/09/2006\"),\n",
        "    (\"Sanchez Flores, Matías Agustín\",\"C\",\"15/02/2007\"),\n",
        "    (\"Scarano, Renato Marcelo\",\"C\",\"06/12/2006\"),\n",
        "    (\"Sierra, Lucas Mauricio\",\"C\",\"03/04/2005\"),\n",
        "    (\"Tapia, Martin Gabriel\",\"C\",\"30/05/2006\"),\n",
        "    (\"Vilte, Mia Antonella Alondra\",\"C\",\"10/09/2005\"),\n",
        "    (\"Virgillito, Katya Milena\",\"C\",\"19/06/2007\")\n",
        "]"
      ]
    },
    {
      "cell_type": "markdown",
      "source": [
        "## Dada la lista estudiantes:\n",
        "> - Hacer una celda para resolver cada punto.\n",
        "- El TP resuelto será revisado en tu repositorio, no es necesario que lo envíes, pero sí que lo pushees correctamente.\n",
        "- En la nota inicial se contempla:\n",
        "  - La incorporación de este documento a tu propio respositorio.\n",
        "  - El pusheo de los cambios realizados.\n",
        "  - La resolución de los ejercicios propuestos.\n"
      ],
      "metadata": {
        "id": "rd6Ug6v3J4uN"
      }
    },
    {
      "cell_type": "markdown",
      "source": [
        "1. Reemplaza todos los valores del nombre por los que obtengas del método title(). De esta manera las listas quedaran con los datos más homogéneos."
      ],
      "metadata": {
        "id": "wRLng-uURyJ3"
      }
    },
    {
      "cell_type": "code",
      "source": [
        "\n",
        "estudiantes = []\n",
        "for i in range(len(estudiantes_5c)):\n",
        "  nombre, divi, fecha_nac= estudiantes_5c[i]\n",
        "  estudiantes.append((nombre.title(),divi,fecha_nac))\n",
        "\n",
        "for i in range(len(estudiantes_5d)):\n",
        "  nombre, divi, fecha_nac= estudiantes_5d[i]\n",
        "  estudiantes.append((nombre.title(),divi,fecha_nac))\n",
        "\n",
        "for estudiante in estudiantes:\n",
        "  print(estudiante)"
      ],
      "metadata": {
        "id": "5lFqJoTaSIWi",
        "outputId": "4245d23e-b326-47a1-f84c-5a08595ab63f",
        "colab": {
          "base_uri": "https://localhost:8080/"
        }
      },
      "execution_count": 2,
      "outputs": [
        {
          "output_type": "stream",
          "name": "stdout",
          "text": [
            "('Abud Laspiur, Lourdes Mariel', 'C', '05/12/2006')\n",
            "('Amador, Luana Micaela', 'C', '09/12/2006')\n",
            "('Anaquin, Leonardo Ezequiel', 'C', '06/09/2005')\n",
            "('Araoz Sanchez, Lautaro Nahuel', 'C', '28/12/2005')\n",
            "('Argañaraz, Agostina Abril', 'C', '11/10/2006')\n",
            "('Barrera, Matias Ezequiel', 'C', '27/02/2007')\n",
            "('Barrozo Vedia, Joaquin Nicolas', 'C', '15/04/2006')\n",
            "('Bettinelli, Valentino', 'C', '12/07/2006')\n",
            "('Bracamonte Martinez, Salvador', 'C', '02/11/2005')\n",
            "('Colque Rivero, Ariana Zoe Del Valle', 'C', '27/12/2006')\n",
            "('Diaz, Dulce Maitena', 'C', '11/12/2006')\n",
            "('Figueroa, Santino Josue', 'C', '12/05/2007')\n",
            "('Flores Cardozo, Agustina Tiara', 'C', '18/03/2006')\n",
            "('Gallo, Octavio Ismael', 'C', '04/08/2006')\n",
            "('Galvan, Lourdes Yamila', 'C', '19/08/2005')\n",
            "('Giangreco, Vitto Tomasso', 'C', '21/03/2007')\n",
            "('Grancara, Martina Luna', 'C', '15/12/2006')\n",
            "('Guanca, Sara Elizabeth', 'C', '17/01/2007')\n",
            "('Lopez, Victoria Constanza', 'C', '12/11/2007')\n",
            "('Mamani Garrido, Rosario Agostina', 'C', '24/10/2006')\n",
            "('Marinaro, Martin Ezequiel', 'C', '03/11/2006')\n",
            "('Merluzzi Dagum, Ignacio', 'C', '22/12/2005')\n",
            "('Messina, Martina', 'C', '13/07/2005')\n",
            "('Rasuk, Karim', 'C', '13/07/2007')\n",
            "('Rios, Lucia Magali', 'C', '22/09/2006')\n",
            "('Sanchez Flores, Matías Agustín', 'C', '15/02/2007')\n",
            "('Scarano, Renato Marcelo', 'C', '06/12/2006')\n",
            "('Sierra, Lucas Mauricio', 'C', '03/04/2005')\n",
            "('Tapia, Martin Gabriel', 'C', '30/05/2006')\n",
            "('Vilte, Mia Antonella Alondra', 'C', '10/09/2005')\n",
            "('Virgillito, Katya Milena', 'C', '19/06/2007')\n",
            "('Alurralde, Solange Stefania', 'D', '02/04/2007')\n",
            "('Alvarado, Ludmila Del Milagro', 'D', '06/09/2006')\n",
            "('Angel, Camila Juliana', 'D', '07/03/2007')\n",
            "('Arenas, Lucas Gabriel', 'D', '26/06/2007')\n",
            "('Caseres, Maria Antonia', 'D', '01/07/2006')\n",
            "('Castillo, Paulina Milagros', 'D', '01/06/2007')\n",
            "('Correa Segovia, Hugo Mariano', 'D', '04/12/2006')\n",
            "('D Elia, Alvaro Tadeo', 'D', '27/08/2006')\n",
            "('Flores, Victoria Agustina', 'D', '12/12/2006')\n",
            "('Geronimo Soriano, Lizzie Amaya', 'D', '20/01/2007')\n",
            "('Guzman, Angélica Morena', 'D', '11/04/2007')\n",
            "('Guzman, Jazmin Esmeralda Belen', 'D', '31/07/2006')\n",
            "('Jaime, Anita Maria Belen', 'D', '19/04/2007')\n",
            "('Lacour Polo, Nazarena', 'D', '19/12/2005')\n",
            "('Lascano Guanca, Marcelo Fabricio', 'D', '17/02/2006')\n",
            "('Lezcano, Celia Morena', 'D', '01/07/2005')\n",
            "('Martinez, Tomas Andres', 'D', '22/03/2007')\n",
            "('Portella Valdivia, Pedro Francisco', 'D', '24/01/2007')\n",
            "('Retamal Cisneros, Zacarias Josue', 'D', '24/02/2007')\n",
            "('Rosales, Francisco Gabriel', 'D', '14/11/2006')\n",
            "('Salem Barba, Mahia', 'D', '14/10/2005')\n",
            "('Soto Camara, Agustin Ignacio', 'D', '07/11/2005')\n",
            "('Villalba, Irina', 'D', '09/09/2006')\n",
            "('Voltolini, Emanuel Tobias', 'D', '17/09/2006')\n",
            "('Zalazar, Santino Stefano', 'D', '30/09/2006')\n"
          ]
        }
      ]
    },
    {
      "cell_type": "markdown",
      "source": [
        "2. Genera una lista de diccionarios con los datos de las listas, donde las claves de los mismos serán:\n",
        "- \"apellido\"\n",
        "- \"nombre\"\n",
        "- \"curso\"\n",
        "- \"division\"\n",
        "- \"feha_de_nacimiento\"\n",
        "\n",
        "Muestra la información generada."
      ],
      "metadata": {
        "id": "dYEGkYZyLy9I"
      }
    },
    {
      "cell_type": "code",
      "source": [
        "diccionario = []\n",
        "for estudiante in estudiantes:\n",
        "  nombre, division, fecha_nac = estudiante\n",
        "  apellido, nombre = nombre.split(',')\n",
        "  dic={}\n",
        "  dic[\"apellido\"] = apellido.strip()\n",
        "  dic[\"nombre\"] = nombre.strip()\n",
        "  dic[\"curso\"] = 5\n",
        "  dic[\"division\"] = division.strip()\n",
        "  dic[\"fecha_de_nacimiento\"] = fecha_nac.strip()\n",
        "  diccionario.append(dic)\n",
        "\n",
        "for estudiante in diccionario:\n",
        "  print(estudiante)"
      ],
      "metadata": {
        "id": "fB4vRWTzkHE1",
        "outputId": "ae5445ff-1547-4c4b-8ec9-d8b22fc53a9f",
        "colab": {
          "base_uri": "https://localhost:8080/"
        }
      },
      "execution_count": 4,
      "outputs": [
        {
          "output_type": "stream",
          "name": "stdout",
          "text": [
            "{'apellido': 'Abud Laspiur', 'nombre': 'Lourdes Mariel', 'curso': 5, 'division': 'C', 'fecha_de_nacimiento': '05/12/2006'}\n",
            "{'apellido': 'Amador', 'nombre': 'Luana Micaela', 'curso': 5, 'division': 'C', 'fecha_de_nacimiento': '09/12/2006'}\n",
            "{'apellido': 'Anaquin', 'nombre': 'Leonardo Ezequiel', 'curso': 5, 'division': 'C', 'fecha_de_nacimiento': '06/09/2005'}\n",
            "{'apellido': 'Araoz Sanchez', 'nombre': 'Lautaro Nahuel', 'curso': 5, 'division': 'C', 'fecha_de_nacimiento': '28/12/2005'}\n",
            "{'apellido': 'Argañaraz', 'nombre': 'Agostina Abril', 'curso': 5, 'division': 'C', 'fecha_de_nacimiento': '11/10/2006'}\n",
            "{'apellido': 'Barrera', 'nombre': 'Matias Ezequiel', 'curso': 5, 'division': 'C', 'fecha_de_nacimiento': '27/02/2007'}\n",
            "{'apellido': 'Barrozo Vedia', 'nombre': 'Joaquin Nicolas', 'curso': 5, 'division': 'C', 'fecha_de_nacimiento': '15/04/2006'}\n",
            "{'apellido': 'Bettinelli', 'nombre': 'Valentino', 'curso': 5, 'division': 'C', 'fecha_de_nacimiento': '12/07/2006'}\n",
            "{'apellido': 'Bracamonte Martinez', 'nombre': 'Salvador', 'curso': 5, 'division': 'C', 'fecha_de_nacimiento': '02/11/2005'}\n",
            "{'apellido': 'Colque Rivero', 'nombre': 'Ariana Zoe Del Valle', 'curso': 5, 'division': 'C', 'fecha_de_nacimiento': '27/12/2006'}\n",
            "{'apellido': 'Diaz', 'nombre': 'Dulce Maitena', 'curso': 5, 'division': 'C', 'fecha_de_nacimiento': '11/12/2006'}\n",
            "{'apellido': 'Figueroa', 'nombre': 'Santino Josue', 'curso': 5, 'division': 'C', 'fecha_de_nacimiento': '12/05/2007'}\n",
            "{'apellido': 'Flores Cardozo', 'nombre': 'Agustina Tiara', 'curso': 5, 'division': 'C', 'fecha_de_nacimiento': '18/03/2006'}\n",
            "{'apellido': 'Gallo', 'nombre': 'Octavio Ismael', 'curso': 5, 'division': 'C', 'fecha_de_nacimiento': '04/08/2006'}\n",
            "{'apellido': 'Galvan', 'nombre': 'Lourdes Yamila', 'curso': 5, 'division': 'C', 'fecha_de_nacimiento': '19/08/2005'}\n",
            "{'apellido': 'Giangreco', 'nombre': 'Vitto Tomasso', 'curso': 5, 'division': 'C', 'fecha_de_nacimiento': '21/03/2007'}\n",
            "{'apellido': 'Grancara', 'nombre': 'Martina Luna', 'curso': 5, 'division': 'C', 'fecha_de_nacimiento': '15/12/2006'}\n",
            "{'apellido': 'Guanca', 'nombre': 'Sara Elizabeth', 'curso': 5, 'division': 'C', 'fecha_de_nacimiento': '17/01/2007'}\n",
            "{'apellido': 'Lopez', 'nombre': 'Victoria Constanza', 'curso': 5, 'division': 'C', 'fecha_de_nacimiento': '12/11/2007'}\n",
            "{'apellido': 'Mamani Garrido', 'nombre': 'Rosario Agostina', 'curso': 5, 'division': 'C', 'fecha_de_nacimiento': '24/10/2006'}\n",
            "{'apellido': 'Marinaro', 'nombre': 'Martin Ezequiel', 'curso': 5, 'division': 'C', 'fecha_de_nacimiento': '03/11/2006'}\n",
            "{'apellido': 'Merluzzi Dagum', 'nombre': 'Ignacio', 'curso': 5, 'division': 'C', 'fecha_de_nacimiento': '22/12/2005'}\n",
            "{'apellido': 'Messina', 'nombre': 'Martina', 'curso': 5, 'division': 'C', 'fecha_de_nacimiento': '13/07/2005'}\n",
            "{'apellido': 'Rasuk', 'nombre': 'Karim', 'curso': 5, 'division': 'C', 'fecha_de_nacimiento': '13/07/2007'}\n",
            "{'apellido': 'Rios', 'nombre': 'Lucia Magali', 'curso': 5, 'division': 'C', 'fecha_de_nacimiento': '22/09/2006'}\n",
            "{'apellido': 'Sanchez Flores', 'nombre': 'Matías Agustín', 'curso': 5, 'division': 'C', 'fecha_de_nacimiento': '15/02/2007'}\n",
            "{'apellido': 'Scarano', 'nombre': 'Renato Marcelo', 'curso': 5, 'division': 'C', 'fecha_de_nacimiento': '06/12/2006'}\n",
            "{'apellido': 'Sierra', 'nombre': 'Lucas Mauricio', 'curso': 5, 'division': 'C', 'fecha_de_nacimiento': '03/04/2005'}\n",
            "{'apellido': 'Tapia', 'nombre': 'Martin Gabriel', 'curso': 5, 'division': 'C', 'fecha_de_nacimiento': '30/05/2006'}\n",
            "{'apellido': 'Vilte', 'nombre': 'Mia Antonella Alondra', 'curso': 5, 'division': 'C', 'fecha_de_nacimiento': '10/09/2005'}\n",
            "{'apellido': 'Virgillito', 'nombre': 'Katya Milena', 'curso': 5, 'division': 'C', 'fecha_de_nacimiento': '19/06/2007'}\n",
            "{'apellido': 'Alurralde', 'nombre': 'Solange Stefania', 'curso': 5, 'division': 'D', 'fecha_de_nacimiento': '02/04/2007'}\n",
            "{'apellido': 'Alvarado', 'nombre': 'Ludmila Del Milagro', 'curso': 5, 'division': 'D', 'fecha_de_nacimiento': '06/09/2006'}\n",
            "{'apellido': 'Angel', 'nombre': 'Camila Juliana', 'curso': 5, 'division': 'D', 'fecha_de_nacimiento': '07/03/2007'}\n",
            "{'apellido': 'Arenas', 'nombre': 'Lucas Gabriel', 'curso': 5, 'division': 'D', 'fecha_de_nacimiento': '26/06/2007'}\n",
            "{'apellido': 'Caseres', 'nombre': 'Maria Antonia', 'curso': 5, 'division': 'D', 'fecha_de_nacimiento': '01/07/2006'}\n",
            "{'apellido': 'Castillo', 'nombre': 'Paulina Milagros', 'curso': 5, 'division': 'D', 'fecha_de_nacimiento': '01/06/2007'}\n",
            "{'apellido': 'Correa Segovia', 'nombre': 'Hugo Mariano', 'curso': 5, 'division': 'D', 'fecha_de_nacimiento': '04/12/2006'}\n",
            "{'apellido': 'D Elia', 'nombre': 'Alvaro Tadeo', 'curso': 5, 'division': 'D', 'fecha_de_nacimiento': '27/08/2006'}\n",
            "{'apellido': 'Flores', 'nombre': 'Victoria Agustina', 'curso': 5, 'division': 'D', 'fecha_de_nacimiento': '12/12/2006'}\n",
            "{'apellido': 'Geronimo Soriano', 'nombre': 'Lizzie Amaya', 'curso': 5, 'division': 'D', 'fecha_de_nacimiento': '20/01/2007'}\n",
            "{'apellido': 'Guzman', 'nombre': 'Angélica Morena', 'curso': 5, 'division': 'D', 'fecha_de_nacimiento': '11/04/2007'}\n",
            "{'apellido': 'Guzman', 'nombre': 'Jazmin Esmeralda Belen', 'curso': 5, 'division': 'D', 'fecha_de_nacimiento': '31/07/2006'}\n",
            "{'apellido': 'Jaime', 'nombre': 'Anita Maria Belen', 'curso': 5, 'division': 'D', 'fecha_de_nacimiento': '19/04/2007'}\n",
            "{'apellido': 'Lacour Polo', 'nombre': 'Nazarena', 'curso': 5, 'division': 'D', 'fecha_de_nacimiento': '19/12/2005'}\n",
            "{'apellido': 'Lascano Guanca', 'nombre': 'Marcelo Fabricio', 'curso': 5, 'division': 'D', 'fecha_de_nacimiento': '17/02/2006'}\n",
            "{'apellido': 'Lezcano', 'nombre': 'Celia Morena', 'curso': 5, 'division': 'D', 'fecha_de_nacimiento': '01/07/2005'}\n",
            "{'apellido': 'Martinez', 'nombre': 'Tomas Andres', 'curso': 5, 'division': 'D', 'fecha_de_nacimiento': '22/03/2007'}\n",
            "{'apellido': 'Portella Valdivia', 'nombre': 'Pedro Francisco', 'curso': 5, 'division': 'D', 'fecha_de_nacimiento': '24/01/2007'}\n",
            "{'apellido': 'Retamal Cisneros', 'nombre': 'Zacarias Josue', 'curso': 5, 'division': 'D', 'fecha_de_nacimiento': '24/02/2007'}\n",
            "{'apellido': 'Rosales', 'nombre': 'Francisco Gabriel', 'curso': 5, 'division': 'D', 'fecha_de_nacimiento': '14/11/2006'}\n",
            "{'apellido': 'Salem Barba', 'nombre': 'Mahia', 'curso': 5, 'division': 'D', 'fecha_de_nacimiento': '14/10/2005'}\n",
            "{'apellido': 'Soto Camara', 'nombre': 'Agustin Ignacio', 'curso': 5, 'division': 'D', 'fecha_de_nacimiento': '07/11/2005'}\n",
            "{'apellido': 'Villalba', 'nombre': 'Irina', 'curso': 5, 'division': 'D', 'fecha_de_nacimiento': '09/09/2006'}\n",
            "{'apellido': 'Voltolini', 'nombre': 'Emanuel Tobias', 'curso': 5, 'division': 'D', 'fecha_de_nacimiento': '17/09/2006'}\n",
            "{'apellido': 'Zalazar', 'nombre': 'Santino Stefano', 'curso': 5, 'division': 'D', 'fecha_de_nacimiento': '30/09/2006'}\n"
          ]
        }
      ]
    },
    {
      "cell_type": "markdown",
      "source": [
        "3. Genera un diccionario en python, en donde la clave sea cada nombre que aparece en las listas y el valor será la cantidad de veces que se encuentra el mismo.\n",
        "Para este punto es posible fusionar ambas listas en una sola, recordá que hay un método que realiza esta acción.\n",
        "\n",
        "Mostrá la informacion generada"
      ],
      "metadata": {
        "id": "UW2dlBsGMAte"
      }
    },
    {
      "cell_type": "code",
      "source": [
        "l_nombres = []\n",
        "for estudiante in diccionario:\n",
        "  nombre = estudiante[\"nombre\"]\n",
        "  nombres = nombre.strip()\n",
        "  nombres=nombre.split(\" \")\n",
        "  l_nombres.extend(nombres)\n",
        "\n",
        "diccionario_nombres = {}\n",
        "for nom in l_nombres:\n",
        "  if nom in diccionario_nombres:\n",
        "    diccionario_nombres[nom] += 1\n",
        "  else:\n",
        "    diccionario_nombres[nom] = 1\n",
        "\n",
        "\n",
        "for nombre, cantidad in diccionario_nombres.items():\n",
        "  print(f\"{nombre}: {cantidad}\")"
      ],
      "metadata": {
        "id": "EawAy4SANtkl",
        "outputId": "19d64d06-2b15-4269-e691-a71c72b77c20",
        "colab": {
          "base_uri": "https://localhost:8080/"
        }
      },
      "execution_count": 5,
      "outputs": [
        {
          "output_type": "stream",
          "name": "stdout",
          "text": [
            "Lourdes: 2\n",
            "Mariel: 1\n",
            "Luana: 1\n",
            "Micaela: 1\n",
            "Leonardo: 1\n",
            "Ezequiel: 3\n",
            "Lautaro: 1\n",
            "Nahuel: 1\n",
            "Agostina: 2\n",
            "Abril: 1\n",
            "Matias: 1\n",
            "Joaquin: 1\n",
            "Nicolas: 1\n",
            "Valentino: 1\n",
            "Salvador: 1\n",
            "Ariana: 1\n",
            "Zoe: 1\n",
            "Del: 2\n",
            "Valle: 1\n",
            "Dulce: 1\n",
            "Maitena: 1\n",
            "Santino: 2\n",
            "Josue: 2\n",
            "Agustina: 2\n",
            "Tiara: 1\n",
            "Octavio: 1\n",
            "Ismael: 1\n",
            "Yamila: 1\n",
            "Vitto: 1\n",
            "Tomasso: 1\n",
            "Martina: 2\n",
            "Luna: 1\n",
            "Sara: 1\n",
            "Elizabeth: 1\n",
            "Victoria: 2\n",
            "Constanza: 1\n",
            "Rosario: 1\n",
            "Martin: 2\n",
            "Ignacio: 2\n",
            "Karim: 1\n",
            "Lucia: 1\n",
            "Magali: 1\n",
            "Matías: 1\n",
            "Agustín: 1\n",
            "Renato: 1\n",
            "Marcelo: 2\n",
            "Lucas: 2\n",
            "Mauricio: 1\n",
            "Gabriel: 3\n",
            "Mia: 1\n",
            "Antonella: 1\n",
            "Alondra: 1\n",
            "Katya: 1\n",
            "Milena: 1\n",
            "Solange: 1\n",
            "Stefania: 1\n",
            "Ludmila: 1\n",
            "Milagro: 1\n",
            "Camila: 1\n",
            "Juliana: 1\n",
            "Maria: 2\n",
            "Antonia: 1\n",
            "Paulina: 1\n",
            "Milagros: 1\n",
            "Hugo: 1\n",
            "Mariano: 1\n",
            "Alvaro: 1\n",
            "Tadeo: 1\n",
            "Lizzie: 1\n",
            "Amaya: 1\n",
            "Angélica: 1\n",
            "Morena: 2\n",
            "Jazmin: 1\n",
            "Esmeralda: 1\n",
            "Belen: 2\n",
            "Anita: 1\n",
            "Nazarena: 1\n",
            "Fabricio: 1\n",
            "Celia: 1\n",
            "Tomas: 1\n",
            "Andres: 1\n",
            "Pedro: 1\n",
            "Francisco: 2\n",
            "Zacarias: 1\n",
            "Mahia: 1\n",
            "Agustin: 1\n",
            "Irina: 1\n",
            "Emanuel: 1\n",
            "Tobias: 1\n",
            "Stefano: 1\n"
          ]
        }
      ]
    },
    {
      "cell_type": "markdown",
      "source": [
        "4. Genera un diccionario en python, en donde la clave sea cada apellido que aparece en las listas y el valor será la cantidad de veces que se encuentra el mismo.\n",
        "Para este punto es posible fusionar ambas listas en una sola, recordá que hay un método que realiza esta acción."
      ],
      "metadata": {
        "id": "kZeEHUYVNwGV"
      }
    },
    {
      "cell_type": "code",
      "source": [
        "l_apellidos = []\n",
        "for estudiante in diccionario:\n",
        "  apellido = estudiante[\"apellido\"]\n",
        "  apellidos = apellido.strip()\n",
        "  apellidos=apellido.split(\" \")\n",
        "  l_apellidos.extend(apellidos)\n",
        "\n",
        "diccionario_apellidos = {}\n",
        "for ape in l_apellidos:\n",
        "  if ape in diccionario_apellidos:\n",
        "    diccionario_apellidos[ape] += 1\n",
        "  else:\n",
        "    diccionario_apellidos[ape] = 1\n",
        "\n",
        "\n",
        "for apellido, cantidad in diccionario_apellidos.items():\n",
        "  print(f\"{apellido}: {cantidad}\")"
      ],
      "metadata": {
        "id": "q05GnxXgORzt",
        "outputId": "ebf7c1d5-bce0-45a0-f49e-fbc84e6236d6",
        "colab": {
          "base_uri": "https://localhost:8080/"
        }
      },
      "execution_count": 6,
      "outputs": [
        {
          "output_type": "stream",
          "name": "stdout",
          "text": [
            "Abud: 1\n",
            "Laspiur: 1\n",
            "Amador: 1\n",
            "Anaquin: 1\n",
            "Araoz: 1\n",
            "Sanchez: 2\n",
            "Argañaraz: 1\n",
            "Barrera: 1\n",
            "Barrozo: 1\n",
            "Vedia: 1\n",
            "Bettinelli: 1\n",
            "Bracamonte: 1\n",
            "Martinez: 2\n",
            "Colque: 1\n",
            "Rivero: 1\n",
            "Diaz: 1\n",
            "Figueroa: 1\n",
            "Flores: 3\n",
            "Cardozo: 1\n",
            "Gallo: 1\n",
            "Galvan: 1\n",
            "Giangreco: 1\n",
            "Grancara: 1\n",
            "Guanca: 2\n",
            "Lopez: 1\n",
            "Mamani: 1\n",
            "Garrido: 1\n",
            "Marinaro: 1\n",
            "Merluzzi: 1\n",
            "Dagum: 1\n",
            "Messina: 1\n",
            "Rasuk: 1\n",
            "Rios: 1\n",
            "Scarano: 1\n",
            "Sierra: 1\n",
            "Tapia: 1\n",
            "Vilte: 1\n",
            "Virgillito: 1\n",
            "Alurralde: 1\n",
            "Alvarado: 1\n",
            "Angel: 1\n",
            "Arenas: 1\n",
            "Caseres: 1\n",
            "Castillo: 1\n",
            "Correa: 1\n",
            "Segovia: 1\n",
            "D: 1\n",
            "Elia: 1\n",
            "Geronimo: 1\n",
            "Soriano: 1\n",
            "Guzman: 2\n",
            "Jaime: 1\n",
            "Lacour: 1\n",
            "Polo: 1\n",
            "Lascano: 1\n",
            "Lezcano: 1\n",
            "Portella: 1\n",
            "Valdivia: 1\n",
            "Retamal: 1\n",
            "Cisneros: 1\n",
            "Rosales: 1\n",
            "Salem: 1\n",
            "Barba: 1\n",
            "Soto: 1\n",
            "Camara: 1\n",
            "Villalba: 1\n",
            "Voltolini: 1\n",
            "Zalazar: 1\n"
          ]
        }
      ]
    },
    {
      "cell_type": "markdown",
      "source": [
        "5. Solicita al usuario que ingrese un apellido y muestra  a todos los estudiantes con ese apellido."
      ],
      "metadata": {
        "id": "ywYmA2JQNp3T"
      }
    },
    {
      "cell_type": "code",
      "source": [
        "apellido = input(\"Ingrese un apellido: \").capitalize()\n",
        "for estudiante in diccionario:\n",
        "  if apellido in estudiante[\"apellido\"]:\n",
        "    print(estudiante)"
      ],
      "metadata": {
        "id": "Cnp334ZrOCjK",
        "outputId": "f4ce8460-effa-44a0-8565-91197ea1a967",
        "colab": {
          "base_uri": "https://localhost:8080/"
        }
      },
      "execution_count": 8,
      "outputs": [
        {
          "output_type": "stream",
          "name": "stdout",
          "text": [
            "Ingrese un apellido: figueroa\n",
            "{'apellido': 'Figueroa', 'nombre': 'Santino Josue', 'curso': 5, 'division': 'C', 'fecha_de_nacimiento': '12/05/2007'}\n"
          ]
        }
      ]
    },
    {
      "cell_type": "markdown",
      "source": [
        "6. Solicita al usuario que ingrese un nombre y muestra a todos los estudiantes con el nombre ingresado."
      ],
      "metadata": {
        "id": "iAXts6saODoU"
      }
    },
    {
      "cell_type": "code",
      "source": [
        "nombre = input(\"Ingrese un nombre: \").capitalize()\n",
        "for estudiante in diccionario:\n",
        "  if nombre in estudiante[\"nombre\"]:\n",
        "    print(estudiante)"
      ],
      "metadata": {
        "id": "FMRsUlvtOJS_",
        "outputId": "b3b6f36e-8508-4b79-b509-8c1d36d5d305",
        "colab": {
          "base_uri": "https://localhost:8080/"
        }
      },
      "execution_count": 9,
      "outputs": [
        {
          "output_type": "stream",
          "name": "stdout",
          "text": [
            "Ingrese un nombre: renato\n",
            "{'apellido': 'Scarano', 'nombre': 'Renato Marcelo', 'curso': 5, 'division': 'C', 'fecha_de_nacimiento': '06/12/2006'}\n"
          ]
        }
      ]
    },
    {
      "cell_type": "markdown",
      "source": [
        "7. Busca el diccionario con tu información dentro de la lista y cámbiate de división, de tal manera que si estas en 5C, con el cambio quedes en 5D y viceversa."
      ],
      "metadata": {
        "id": "T4PFiwwdOK27"
      }
    },
    {
      "cell_type": "code",
      "source": [
        "\n",
        "nombre=input(\"Ingrese su nombre: \").title()\n",
        "for estudiante in diccionario:\n",
        "  if nombre in estudiante[\"nombre\"]:\n",
        "    if estudiante[\"division\"]==\"D\":\n",
        "       estudiante[\"division\"]=\"C\"\n",
        "    else:\n",
        "       estudiante[\"division\"]=\"D\"\n",
        "    print(estudiante)"
      ],
      "metadata": {
        "id": "vjQ2X9x3OmFr",
        "outputId": "9b73493b-a067-4d1f-fed1-dfddfa6aadfe",
        "colab": {
          "base_uri": "https://localhost:8080/"
        }
      },
      "execution_count": 10,
      "outputs": [
        {
          "output_type": "stream",
          "name": "stdout",
          "text": [
            "Ingrese su nombre: renato\n",
            "{'apellido': 'Scarano', 'nombre': 'Renato Marcelo', 'curso': 5, 'division': 'D', 'fecha_de_nacimiento': '06/12/2006'}\n"
          ]
        }
      ]
    },
    {
      "cell_type": "markdown",
      "source": [
        "8. Ordenar la lista alfabeticamente por nombre. Ascendente y descendentemente. Para elegir como ordenarla, mostrar un menú donde el usuario podrá decidir como quiere ver la salida."
      ],
      "metadata": {
        "id": "xfy8SFlZRVGf"
      }
    },
    {
      "cell_type": "code",
      "source": [
        "orden=int(input(\"Ingrese 1 para ordenar de manera ascendente o 2 para ordenar de manera descendente: \"))\n",
        "if orden==1:\n",
        "  diccionario.sort(key=lambda x: x[\"nombre\"])\n",
        "else:\n",
        "  diccionario.sort(key=lambda x: x[\"nombre\"], reverse=True)\n",
        "for estudiante in diccionario:\n",
        "  print(estudiante)"
      ],
      "metadata": {
        "id": "E4Onk1FNRUa2",
        "outputId": "69455838-a452-431d-877a-ef9efcc5c2e4",
        "colab": {
          "base_uri": "https://localhost:8080/"
        }
      },
      "execution_count": 13,
      "outputs": [
        {
          "output_type": "stream",
          "name": "stdout",
          "text": [
            "Ingrese 1 para ordenar de manera ascendente o 2 para ordenar de manera descendente: 1\n",
            "{'apellido': 'Argañaraz', 'nombre': 'Agostina Abril', 'curso': 5, 'division': 'C', 'fecha_de_nacimiento': '11/10/2006'}\n",
            "{'apellido': 'Soto Camara', 'nombre': 'Agustin Ignacio', 'curso': 5, 'division': 'D', 'fecha_de_nacimiento': '07/11/2005'}\n",
            "{'apellido': 'Flores Cardozo', 'nombre': 'Agustina Tiara', 'curso': 5, 'division': 'C', 'fecha_de_nacimiento': '18/03/2006'}\n",
            "{'apellido': 'D Elia', 'nombre': 'Alvaro Tadeo', 'curso': 5, 'division': 'D', 'fecha_de_nacimiento': '27/08/2006'}\n",
            "{'apellido': 'Guzman', 'nombre': 'Angélica Morena', 'curso': 5, 'division': 'D', 'fecha_de_nacimiento': '11/04/2007'}\n",
            "{'apellido': 'Jaime', 'nombre': 'Anita Maria Belen', 'curso': 5, 'division': 'D', 'fecha_de_nacimiento': '19/04/2007'}\n",
            "{'apellido': 'Colque Rivero', 'nombre': 'Ariana Zoe Del Valle', 'curso': 5, 'division': 'C', 'fecha_de_nacimiento': '27/12/2006'}\n",
            "{'apellido': 'Angel', 'nombre': 'Camila Juliana', 'curso': 5, 'division': 'D', 'fecha_de_nacimiento': '07/03/2007'}\n",
            "{'apellido': 'Lezcano', 'nombre': 'Celia Morena', 'curso': 5, 'division': 'D', 'fecha_de_nacimiento': '01/07/2005'}\n",
            "{'apellido': 'Diaz', 'nombre': 'Dulce Maitena', 'curso': 5, 'division': 'C', 'fecha_de_nacimiento': '11/12/2006'}\n",
            "{'apellido': 'Voltolini', 'nombre': 'Emanuel Tobias', 'curso': 5, 'division': 'D', 'fecha_de_nacimiento': '17/09/2006'}\n",
            "{'apellido': 'Rosales', 'nombre': 'Francisco Gabriel', 'curso': 5, 'division': 'D', 'fecha_de_nacimiento': '14/11/2006'}\n",
            "{'apellido': 'Correa Segovia', 'nombre': 'Hugo Mariano', 'curso': 5, 'division': 'D', 'fecha_de_nacimiento': '04/12/2006'}\n",
            "{'apellido': 'Merluzzi Dagum', 'nombre': 'Ignacio', 'curso': 5, 'division': 'C', 'fecha_de_nacimiento': '22/12/2005'}\n",
            "{'apellido': 'Villalba', 'nombre': 'Irina', 'curso': 5, 'division': 'D', 'fecha_de_nacimiento': '09/09/2006'}\n",
            "{'apellido': 'Guzman', 'nombre': 'Jazmin Esmeralda Belen', 'curso': 5, 'division': 'D', 'fecha_de_nacimiento': '31/07/2006'}\n",
            "{'apellido': 'Barrozo Vedia', 'nombre': 'Joaquin Nicolas', 'curso': 5, 'division': 'C', 'fecha_de_nacimiento': '15/04/2006'}\n",
            "{'apellido': 'Rasuk', 'nombre': 'Karim', 'curso': 5, 'division': 'C', 'fecha_de_nacimiento': '13/07/2007'}\n",
            "{'apellido': 'Virgillito', 'nombre': 'Katya Milena', 'curso': 5, 'division': 'C', 'fecha_de_nacimiento': '19/06/2007'}\n",
            "{'apellido': 'Araoz Sanchez', 'nombre': 'Lautaro Nahuel', 'curso': 5, 'division': 'C', 'fecha_de_nacimiento': '28/12/2005'}\n",
            "{'apellido': 'Anaquin', 'nombre': 'Leonardo Ezequiel', 'curso': 5, 'division': 'C', 'fecha_de_nacimiento': '06/09/2005'}\n",
            "{'apellido': 'Geronimo Soriano', 'nombre': 'Lizzie Amaya', 'curso': 5, 'division': 'D', 'fecha_de_nacimiento': '20/01/2007'}\n",
            "{'apellido': 'Abud Laspiur', 'nombre': 'Lourdes Mariel', 'curso': 5, 'division': 'C', 'fecha_de_nacimiento': '05/12/2006'}\n",
            "{'apellido': 'Galvan', 'nombre': 'Lourdes Yamila', 'curso': 5, 'division': 'C', 'fecha_de_nacimiento': '19/08/2005'}\n",
            "{'apellido': 'Amador', 'nombre': 'Luana Micaela', 'curso': 5, 'division': 'C', 'fecha_de_nacimiento': '09/12/2006'}\n",
            "{'apellido': 'Arenas', 'nombre': 'Lucas Gabriel', 'curso': 5, 'division': 'D', 'fecha_de_nacimiento': '26/06/2007'}\n",
            "{'apellido': 'Sierra', 'nombre': 'Lucas Mauricio', 'curso': 5, 'division': 'C', 'fecha_de_nacimiento': '03/04/2005'}\n",
            "{'apellido': 'Rios', 'nombre': 'Lucia Magali', 'curso': 5, 'division': 'C', 'fecha_de_nacimiento': '22/09/2006'}\n",
            "{'apellido': 'Alvarado', 'nombre': 'Ludmila Del Milagro', 'curso': 5, 'division': 'D', 'fecha_de_nacimiento': '06/09/2006'}\n",
            "{'apellido': 'Salem Barba', 'nombre': 'Mahia', 'curso': 5, 'division': 'D', 'fecha_de_nacimiento': '14/10/2005'}\n",
            "{'apellido': 'Lascano Guanca', 'nombre': 'Marcelo Fabricio', 'curso': 5, 'division': 'D', 'fecha_de_nacimiento': '17/02/2006'}\n",
            "{'apellido': 'Caseres', 'nombre': 'Maria Antonia', 'curso': 5, 'division': 'D', 'fecha_de_nacimiento': '01/07/2006'}\n",
            "{'apellido': 'Marinaro', 'nombre': 'Martin Ezequiel', 'curso': 5, 'division': 'C', 'fecha_de_nacimiento': '03/11/2006'}\n",
            "{'apellido': 'Tapia', 'nombre': 'Martin Gabriel', 'curso': 5, 'division': 'C', 'fecha_de_nacimiento': '30/05/2006'}\n",
            "{'apellido': 'Messina', 'nombre': 'Martina', 'curso': 5, 'division': 'C', 'fecha_de_nacimiento': '13/07/2005'}\n",
            "{'apellido': 'Grancara', 'nombre': 'Martina Luna', 'curso': 5, 'division': 'C', 'fecha_de_nacimiento': '15/12/2006'}\n",
            "{'apellido': 'Barrera', 'nombre': 'Matias Ezequiel', 'curso': 5, 'division': 'C', 'fecha_de_nacimiento': '27/02/2007'}\n",
            "{'apellido': 'Sanchez Flores', 'nombre': 'Matías Agustín', 'curso': 5, 'division': 'C', 'fecha_de_nacimiento': '15/02/2007'}\n",
            "{'apellido': 'Vilte', 'nombre': 'Mia Antonella Alondra', 'curso': 5, 'division': 'C', 'fecha_de_nacimiento': '10/09/2005'}\n",
            "{'apellido': 'Lacour Polo', 'nombre': 'Nazarena', 'curso': 5, 'division': 'D', 'fecha_de_nacimiento': '19/12/2005'}\n",
            "{'apellido': 'Gallo', 'nombre': 'Octavio Ismael', 'curso': 5, 'division': 'C', 'fecha_de_nacimiento': '04/08/2006'}\n",
            "{'apellido': 'Castillo', 'nombre': 'Paulina Milagros', 'curso': 5, 'division': 'D', 'fecha_de_nacimiento': '01/06/2007'}\n",
            "{'apellido': 'Portella Valdivia', 'nombre': 'Pedro Francisco', 'curso': 5, 'division': 'D', 'fecha_de_nacimiento': '24/01/2007'}\n",
            "{'apellido': 'Scarano', 'nombre': 'Renato Marcelo', 'curso': 5, 'division': 'D', 'fecha_de_nacimiento': '06/12/2006'}\n",
            "{'apellido': 'Mamani Garrido', 'nombre': 'Rosario Agostina', 'curso': 5, 'division': 'C', 'fecha_de_nacimiento': '24/10/2006'}\n",
            "{'apellido': 'Bracamonte Martinez', 'nombre': 'Salvador', 'curso': 5, 'division': 'C', 'fecha_de_nacimiento': '02/11/2005'}\n",
            "{'apellido': 'Figueroa', 'nombre': 'Santino Josue', 'curso': 5, 'division': 'C', 'fecha_de_nacimiento': '12/05/2007'}\n",
            "{'apellido': 'Zalazar', 'nombre': 'Santino Stefano', 'curso': 5, 'division': 'D', 'fecha_de_nacimiento': '30/09/2006'}\n",
            "{'apellido': 'Guanca', 'nombre': 'Sara Elizabeth', 'curso': 5, 'division': 'C', 'fecha_de_nacimiento': '17/01/2007'}\n",
            "{'apellido': 'Alurralde', 'nombre': 'Solange Stefania', 'curso': 5, 'division': 'D', 'fecha_de_nacimiento': '02/04/2007'}\n",
            "{'apellido': 'Martinez', 'nombre': 'Tomas Andres', 'curso': 5, 'division': 'D', 'fecha_de_nacimiento': '22/03/2007'}\n",
            "{'apellido': 'Bettinelli', 'nombre': 'Valentino', 'curso': 5, 'division': 'C', 'fecha_de_nacimiento': '12/07/2006'}\n",
            "{'apellido': 'Flores', 'nombre': 'Victoria Agustina', 'curso': 5, 'division': 'D', 'fecha_de_nacimiento': '12/12/2006'}\n",
            "{'apellido': 'Lopez', 'nombre': 'Victoria Constanza', 'curso': 5, 'division': 'C', 'fecha_de_nacimiento': '12/11/2007'}\n",
            "{'apellido': 'Giangreco', 'nombre': 'Vitto Tomasso', 'curso': 5, 'division': 'C', 'fecha_de_nacimiento': '21/03/2007'}\n",
            "{'apellido': 'Retamal Cisneros', 'nombre': 'Zacarias Josue', 'curso': 5, 'division': 'D', 'fecha_de_nacimiento': '24/02/2007'}\n"
          ]
        }
      ]
    },
    {
      "cell_type": "markdown",
      "source": [
        "9. Ordenar la lista alfabeticamente por apellido. Ascendente y descendentemente. Para elegir como ordenarla, mostrar un menú donde el usuario podrá decidir como quiere ver la salida."
      ],
      "metadata": {
        "id": "lW18NgPjRcGP"
      }
    },
    {
      "cell_type": "code",
      "source": [
        "\n",
        "orden=int(input(\"Ingrese 1 para ordenar de manera ascendente o 2 para ordenar de manera descendente: \"))\n",
        "if orden==1:\n",
        "  diccionario.sort(key=lambda x: x[\"apellido\"])\n",
        "else:\n",
        "  diccionario.sort(key=lambda x: x[\"apellido\"], reverse=True)\n",
        "for estudiante in diccionario:\n",
        "  print(estudiante)"
      ],
      "metadata": {
        "id": "jTtWBnalRcoC",
        "outputId": "2d9fb926-68bb-4098-f9a9-1c587636bef8",
        "colab": {
          "base_uri": "https://localhost:8080/"
        }
      },
      "execution_count": 14,
      "outputs": [
        {
          "output_type": "stream",
          "name": "stdout",
          "text": [
            "Ingrese 1 para ordenar de manera ascendente o 2 para ordenar de manera descendente: 1\n",
            "{'apellido': 'Abud Laspiur', 'nombre': 'Lourdes Mariel', 'curso': 5, 'division': 'C', 'fecha_de_nacimiento': '05/12/2006'}\n",
            "{'apellido': 'Alurralde', 'nombre': 'Solange Stefania', 'curso': 5, 'division': 'D', 'fecha_de_nacimiento': '02/04/2007'}\n",
            "{'apellido': 'Alvarado', 'nombre': 'Ludmila Del Milagro', 'curso': 5, 'division': 'D', 'fecha_de_nacimiento': '06/09/2006'}\n",
            "{'apellido': 'Amador', 'nombre': 'Luana Micaela', 'curso': 5, 'division': 'C', 'fecha_de_nacimiento': '09/12/2006'}\n",
            "{'apellido': 'Anaquin', 'nombre': 'Leonardo Ezequiel', 'curso': 5, 'division': 'C', 'fecha_de_nacimiento': '06/09/2005'}\n",
            "{'apellido': 'Angel', 'nombre': 'Camila Juliana', 'curso': 5, 'division': 'D', 'fecha_de_nacimiento': '07/03/2007'}\n",
            "{'apellido': 'Araoz Sanchez', 'nombre': 'Lautaro Nahuel', 'curso': 5, 'division': 'C', 'fecha_de_nacimiento': '28/12/2005'}\n",
            "{'apellido': 'Arenas', 'nombre': 'Lucas Gabriel', 'curso': 5, 'division': 'D', 'fecha_de_nacimiento': '26/06/2007'}\n",
            "{'apellido': 'Argañaraz', 'nombre': 'Agostina Abril', 'curso': 5, 'division': 'C', 'fecha_de_nacimiento': '11/10/2006'}\n",
            "{'apellido': 'Barrera', 'nombre': 'Matias Ezequiel', 'curso': 5, 'division': 'C', 'fecha_de_nacimiento': '27/02/2007'}\n",
            "{'apellido': 'Barrozo Vedia', 'nombre': 'Joaquin Nicolas', 'curso': 5, 'division': 'C', 'fecha_de_nacimiento': '15/04/2006'}\n",
            "{'apellido': 'Bettinelli', 'nombre': 'Valentino', 'curso': 5, 'division': 'C', 'fecha_de_nacimiento': '12/07/2006'}\n",
            "{'apellido': 'Bracamonte Martinez', 'nombre': 'Salvador', 'curso': 5, 'division': 'C', 'fecha_de_nacimiento': '02/11/2005'}\n",
            "{'apellido': 'Caseres', 'nombre': 'Maria Antonia', 'curso': 5, 'division': 'D', 'fecha_de_nacimiento': '01/07/2006'}\n",
            "{'apellido': 'Castillo', 'nombre': 'Paulina Milagros', 'curso': 5, 'division': 'D', 'fecha_de_nacimiento': '01/06/2007'}\n",
            "{'apellido': 'Colque Rivero', 'nombre': 'Ariana Zoe Del Valle', 'curso': 5, 'division': 'C', 'fecha_de_nacimiento': '27/12/2006'}\n",
            "{'apellido': 'Correa Segovia', 'nombre': 'Hugo Mariano', 'curso': 5, 'division': 'D', 'fecha_de_nacimiento': '04/12/2006'}\n",
            "{'apellido': 'D Elia', 'nombre': 'Alvaro Tadeo', 'curso': 5, 'division': 'D', 'fecha_de_nacimiento': '27/08/2006'}\n",
            "{'apellido': 'Diaz', 'nombre': 'Dulce Maitena', 'curso': 5, 'division': 'C', 'fecha_de_nacimiento': '11/12/2006'}\n",
            "{'apellido': 'Figueroa', 'nombre': 'Santino Josue', 'curso': 5, 'division': 'C', 'fecha_de_nacimiento': '12/05/2007'}\n",
            "{'apellido': 'Flores', 'nombre': 'Victoria Agustina', 'curso': 5, 'division': 'D', 'fecha_de_nacimiento': '12/12/2006'}\n",
            "{'apellido': 'Flores Cardozo', 'nombre': 'Agustina Tiara', 'curso': 5, 'division': 'C', 'fecha_de_nacimiento': '18/03/2006'}\n",
            "{'apellido': 'Gallo', 'nombre': 'Octavio Ismael', 'curso': 5, 'division': 'C', 'fecha_de_nacimiento': '04/08/2006'}\n",
            "{'apellido': 'Galvan', 'nombre': 'Lourdes Yamila', 'curso': 5, 'division': 'C', 'fecha_de_nacimiento': '19/08/2005'}\n",
            "{'apellido': 'Geronimo Soriano', 'nombre': 'Lizzie Amaya', 'curso': 5, 'division': 'D', 'fecha_de_nacimiento': '20/01/2007'}\n",
            "{'apellido': 'Giangreco', 'nombre': 'Vitto Tomasso', 'curso': 5, 'division': 'C', 'fecha_de_nacimiento': '21/03/2007'}\n",
            "{'apellido': 'Grancara', 'nombre': 'Martina Luna', 'curso': 5, 'division': 'C', 'fecha_de_nacimiento': '15/12/2006'}\n",
            "{'apellido': 'Guanca', 'nombre': 'Sara Elizabeth', 'curso': 5, 'division': 'C', 'fecha_de_nacimiento': '17/01/2007'}\n",
            "{'apellido': 'Guzman', 'nombre': 'Angélica Morena', 'curso': 5, 'division': 'D', 'fecha_de_nacimiento': '11/04/2007'}\n",
            "{'apellido': 'Guzman', 'nombre': 'Jazmin Esmeralda Belen', 'curso': 5, 'division': 'D', 'fecha_de_nacimiento': '31/07/2006'}\n",
            "{'apellido': 'Jaime', 'nombre': 'Anita Maria Belen', 'curso': 5, 'division': 'D', 'fecha_de_nacimiento': '19/04/2007'}\n",
            "{'apellido': 'Lacour Polo', 'nombre': 'Nazarena', 'curso': 5, 'division': 'D', 'fecha_de_nacimiento': '19/12/2005'}\n",
            "{'apellido': 'Lascano Guanca', 'nombre': 'Marcelo Fabricio', 'curso': 5, 'division': 'D', 'fecha_de_nacimiento': '17/02/2006'}\n",
            "{'apellido': 'Lezcano', 'nombre': 'Celia Morena', 'curso': 5, 'division': 'D', 'fecha_de_nacimiento': '01/07/2005'}\n",
            "{'apellido': 'Lopez', 'nombre': 'Victoria Constanza', 'curso': 5, 'division': 'C', 'fecha_de_nacimiento': '12/11/2007'}\n",
            "{'apellido': 'Mamani Garrido', 'nombre': 'Rosario Agostina', 'curso': 5, 'division': 'C', 'fecha_de_nacimiento': '24/10/2006'}\n",
            "{'apellido': 'Marinaro', 'nombre': 'Martin Ezequiel', 'curso': 5, 'division': 'C', 'fecha_de_nacimiento': '03/11/2006'}\n",
            "{'apellido': 'Martinez', 'nombre': 'Tomas Andres', 'curso': 5, 'division': 'D', 'fecha_de_nacimiento': '22/03/2007'}\n",
            "{'apellido': 'Merluzzi Dagum', 'nombre': 'Ignacio', 'curso': 5, 'division': 'C', 'fecha_de_nacimiento': '22/12/2005'}\n",
            "{'apellido': 'Messina', 'nombre': 'Martina', 'curso': 5, 'division': 'C', 'fecha_de_nacimiento': '13/07/2005'}\n",
            "{'apellido': 'Portella Valdivia', 'nombre': 'Pedro Francisco', 'curso': 5, 'division': 'D', 'fecha_de_nacimiento': '24/01/2007'}\n",
            "{'apellido': 'Rasuk', 'nombre': 'Karim', 'curso': 5, 'division': 'C', 'fecha_de_nacimiento': '13/07/2007'}\n",
            "{'apellido': 'Retamal Cisneros', 'nombre': 'Zacarias Josue', 'curso': 5, 'division': 'D', 'fecha_de_nacimiento': '24/02/2007'}\n",
            "{'apellido': 'Rios', 'nombre': 'Lucia Magali', 'curso': 5, 'division': 'C', 'fecha_de_nacimiento': '22/09/2006'}\n",
            "{'apellido': 'Rosales', 'nombre': 'Francisco Gabriel', 'curso': 5, 'division': 'D', 'fecha_de_nacimiento': '14/11/2006'}\n",
            "{'apellido': 'Salem Barba', 'nombre': 'Mahia', 'curso': 5, 'division': 'D', 'fecha_de_nacimiento': '14/10/2005'}\n",
            "{'apellido': 'Sanchez Flores', 'nombre': 'Matías Agustín', 'curso': 5, 'division': 'C', 'fecha_de_nacimiento': '15/02/2007'}\n",
            "{'apellido': 'Scarano', 'nombre': 'Renato Marcelo', 'curso': 5, 'division': 'D', 'fecha_de_nacimiento': '06/12/2006'}\n",
            "{'apellido': 'Sierra', 'nombre': 'Lucas Mauricio', 'curso': 5, 'division': 'C', 'fecha_de_nacimiento': '03/04/2005'}\n",
            "{'apellido': 'Soto Camara', 'nombre': 'Agustin Ignacio', 'curso': 5, 'division': 'D', 'fecha_de_nacimiento': '07/11/2005'}\n",
            "{'apellido': 'Tapia', 'nombre': 'Martin Gabriel', 'curso': 5, 'division': 'C', 'fecha_de_nacimiento': '30/05/2006'}\n",
            "{'apellido': 'Villalba', 'nombre': 'Irina', 'curso': 5, 'division': 'D', 'fecha_de_nacimiento': '09/09/2006'}\n",
            "{'apellido': 'Vilte', 'nombre': 'Mia Antonella Alondra', 'curso': 5, 'division': 'C', 'fecha_de_nacimiento': '10/09/2005'}\n",
            "{'apellido': 'Virgillito', 'nombre': 'Katya Milena', 'curso': 5, 'division': 'C', 'fecha_de_nacimiento': '19/06/2007'}\n",
            "{'apellido': 'Voltolini', 'nombre': 'Emanuel Tobias', 'curso': 5, 'division': 'D', 'fecha_de_nacimiento': '17/09/2006'}\n",
            "{'apellido': 'Zalazar', 'nombre': 'Santino Stefano', 'curso': 5, 'division': 'D', 'fecha_de_nacimiento': '30/09/2006'}\n"
          ]
        }
      ]
    },
    {
      "cell_type": "markdown",
      "source": [
        "10. Ordena la lista por fecha de nacimiento, de manera ascendente y descendente."
      ],
      "metadata": {
        "id": "E24lH7x5Xbur"
      }
    },
    {
      "cell_type": "code",
      "source": [
        "from datetime import datetime\n",
        "def convertir_fecha(fecha_str):\n",
        "    return datetime.strptime(fecha_str, \"%d/%m/%Y\").date()\n",
        "\n",
        "orden=int(input(\"Ingrese 1 para ordenar de manera ascendente o 2 para ordenar de manera descendente: \"))\n",
        "if orden==1:\n",
        "  diccionario.sort(key=lambda x: convertir_fecha(x[\"fecha_de_nacimiento\"]))\n",
        "  for estudiante in diccionario:\n",
        "    print(estudiante)\n",
        "else:\n",
        "  diccionario.sort(key=lambda x: convertir_fecha(x[\"fecha_de_nacimiento\"]), reverse=True)\n",
        "  for estudiante in diccionario:\n",
        "    print(estudiante)"
      ],
      "metadata": {
        "id": "9SeI3GBGXims",
        "outputId": "3335de73-0af2-48b0-d0b3-b69d337239fc",
        "colab": {
          "base_uri": "https://localhost:8080/"
        }
      },
      "execution_count": 17,
      "outputs": [
        {
          "output_type": "stream",
          "name": "stdout",
          "text": [
            "Ingrese 1 para ordenar de manera ascendente o 2 para ordenar de manera descendente: 2\n",
            "{'apellido': 'Lopez', 'nombre': 'Victoria Constanza', 'curso': 5, 'division': 'C', 'fecha_de_nacimiento': '12/11/2007'}\n",
            "{'apellido': 'Rasuk', 'nombre': 'Karim', 'curso': 5, 'division': 'C', 'fecha_de_nacimiento': '13/07/2007'}\n",
            "{'apellido': 'Arenas', 'nombre': 'Lucas Gabriel', 'curso': 5, 'division': 'D', 'fecha_de_nacimiento': '26/06/2007'}\n",
            "{'apellido': 'Virgillito', 'nombre': 'Katya Milena', 'curso': 5, 'division': 'C', 'fecha_de_nacimiento': '19/06/2007'}\n",
            "{'apellido': 'Castillo', 'nombre': 'Paulina Milagros', 'curso': 5, 'division': 'D', 'fecha_de_nacimiento': '01/06/2007'}\n",
            "{'apellido': 'Figueroa', 'nombre': 'Santino Josue', 'curso': 5, 'division': 'C', 'fecha_de_nacimiento': '12/05/2007'}\n",
            "{'apellido': 'Jaime', 'nombre': 'Anita Maria Belen', 'curso': 5, 'division': 'D', 'fecha_de_nacimiento': '19/04/2007'}\n",
            "{'apellido': 'Guzman', 'nombre': 'Angélica Morena', 'curso': 5, 'division': 'D', 'fecha_de_nacimiento': '11/04/2007'}\n",
            "{'apellido': 'Alurralde', 'nombre': 'Solange Stefania', 'curso': 5, 'division': 'D', 'fecha_de_nacimiento': '02/04/2007'}\n",
            "{'apellido': 'Martinez', 'nombre': 'Tomas Andres', 'curso': 5, 'division': 'D', 'fecha_de_nacimiento': '22/03/2007'}\n",
            "{'apellido': 'Giangreco', 'nombre': 'Vitto Tomasso', 'curso': 5, 'division': 'C', 'fecha_de_nacimiento': '21/03/2007'}\n",
            "{'apellido': 'Angel', 'nombre': 'Camila Juliana', 'curso': 5, 'division': 'D', 'fecha_de_nacimiento': '07/03/2007'}\n",
            "{'apellido': 'Barrera', 'nombre': 'Matias Ezequiel', 'curso': 5, 'division': 'C', 'fecha_de_nacimiento': '27/02/2007'}\n",
            "{'apellido': 'Retamal Cisneros', 'nombre': 'Zacarias Josue', 'curso': 5, 'division': 'D', 'fecha_de_nacimiento': '24/02/2007'}\n",
            "{'apellido': 'Sanchez Flores', 'nombre': 'Matías Agustín', 'curso': 5, 'division': 'C', 'fecha_de_nacimiento': '15/02/2007'}\n",
            "{'apellido': 'Portella Valdivia', 'nombre': 'Pedro Francisco', 'curso': 5, 'division': 'D', 'fecha_de_nacimiento': '24/01/2007'}\n",
            "{'apellido': 'Geronimo Soriano', 'nombre': 'Lizzie Amaya', 'curso': 5, 'division': 'D', 'fecha_de_nacimiento': '20/01/2007'}\n",
            "{'apellido': 'Guanca', 'nombre': 'Sara Elizabeth', 'curso': 5, 'division': 'C', 'fecha_de_nacimiento': '17/01/2007'}\n",
            "{'apellido': 'Colque Rivero', 'nombre': 'Ariana Zoe Del Valle', 'curso': 5, 'division': 'C', 'fecha_de_nacimiento': '27/12/2006'}\n",
            "{'apellido': 'Grancara', 'nombre': 'Martina Luna', 'curso': 5, 'division': 'C', 'fecha_de_nacimiento': '15/12/2006'}\n",
            "{'apellido': 'Flores', 'nombre': 'Victoria Agustina', 'curso': 5, 'division': 'D', 'fecha_de_nacimiento': '12/12/2006'}\n",
            "{'apellido': 'Diaz', 'nombre': 'Dulce Maitena', 'curso': 5, 'division': 'C', 'fecha_de_nacimiento': '11/12/2006'}\n",
            "{'apellido': 'Amador', 'nombre': 'Luana Micaela', 'curso': 5, 'division': 'C', 'fecha_de_nacimiento': '09/12/2006'}\n",
            "{'apellido': 'Scarano', 'nombre': 'Renato Marcelo', 'curso': 5, 'division': 'D', 'fecha_de_nacimiento': '06/12/2006'}\n",
            "{'apellido': 'Abud Laspiur', 'nombre': 'Lourdes Mariel', 'curso': 5, 'division': 'C', 'fecha_de_nacimiento': '05/12/2006'}\n",
            "{'apellido': 'Correa Segovia', 'nombre': 'Hugo Mariano', 'curso': 5, 'division': 'D', 'fecha_de_nacimiento': '04/12/2006'}\n",
            "{'apellido': 'Rosales', 'nombre': 'Francisco Gabriel', 'curso': 5, 'division': 'D', 'fecha_de_nacimiento': '14/11/2006'}\n",
            "{'apellido': 'Marinaro', 'nombre': 'Martin Ezequiel', 'curso': 5, 'division': 'C', 'fecha_de_nacimiento': '03/11/2006'}\n",
            "{'apellido': 'Mamani Garrido', 'nombre': 'Rosario Agostina', 'curso': 5, 'division': 'C', 'fecha_de_nacimiento': '24/10/2006'}\n",
            "{'apellido': 'Argañaraz', 'nombre': 'Agostina Abril', 'curso': 5, 'division': 'C', 'fecha_de_nacimiento': '11/10/2006'}\n",
            "{'apellido': 'Zalazar', 'nombre': 'Santino Stefano', 'curso': 5, 'division': 'D', 'fecha_de_nacimiento': '30/09/2006'}\n",
            "{'apellido': 'Rios', 'nombre': 'Lucia Magali', 'curso': 5, 'division': 'C', 'fecha_de_nacimiento': '22/09/2006'}\n",
            "{'apellido': 'Voltolini', 'nombre': 'Emanuel Tobias', 'curso': 5, 'division': 'D', 'fecha_de_nacimiento': '17/09/2006'}\n",
            "{'apellido': 'Villalba', 'nombre': 'Irina', 'curso': 5, 'division': 'D', 'fecha_de_nacimiento': '09/09/2006'}\n",
            "{'apellido': 'Alvarado', 'nombre': 'Ludmila Del Milagro', 'curso': 5, 'division': 'D', 'fecha_de_nacimiento': '06/09/2006'}\n",
            "{'apellido': 'D Elia', 'nombre': 'Alvaro Tadeo', 'curso': 5, 'division': 'D', 'fecha_de_nacimiento': '27/08/2006'}\n",
            "{'apellido': 'Gallo', 'nombre': 'Octavio Ismael', 'curso': 5, 'division': 'C', 'fecha_de_nacimiento': '04/08/2006'}\n",
            "{'apellido': 'Guzman', 'nombre': 'Jazmin Esmeralda Belen', 'curso': 5, 'division': 'D', 'fecha_de_nacimiento': '31/07/2006'}\n",
            "{'apellido': 'Bettinelli', 'nombre': 'Valentino', 'curso': 5, 'division': 'C', 'fecha_de_nacimiento': '12/07/2006'}\n",
            "{'apellido': 'Caseres', 'nombre': 'Maria Antonia', 'curso': 5, 'division': 'D', 'fecha_de_nacimiento': '01/07/2006'}\n",
            "{'apellido': 'Tapia', 'nombre': 'Martin Gabriel', 'curso': 5, 'division': 'C', 'fecha_de_nacimiento': '30/05/2006'}\n",
            "{'apellido': 'Barrozo Vedia', 'nombre': 'Joaquin Nicolas', 'curso': 5, 'division': 'C', 'fecha_de_nacimiento': '15/04/2006'}\n",
            "{'apellido': 'Flores Cardozo', 'nombre': 'Agustina Tiara', 'curso': 5, 'division': 'C', 'fecha_de_nacimiento': '18/03/2006'}\n",
            "{'apellido': 'Lascano Guanca', 'nombre': 'Marcelo Fabricio', 'curso': 5, 'division': 'D', 'fecha_de_nacimiento': '17/02/2006'}\n",
            "{'apellido': 'Araoz Sanchez', 'nombre': 'Lautaro Nahuel', 'curso': 5, 'division': 'C', 'fecha_de_nacimiento': '28/12/2005'}\n",
            "{'apellido': 'Merluzzi Dagum', 'nombre': 'Ignacio', 'curso': 5, 'division': 'C', 'fecha_de_nacimiento': '22/12/2005'}\n",
            "{'apellido': 'Lacour Polo', 'nombre': 'Nazarena', 'curso': 5, 'division': 'D', 'fecha_de_nacimiento': '19/12/2005'}\n",
            "{'apellido': 'Soto Camara', 'nombre': 'Agustin Ignacio', 'curso': 5, 'division': 'D', 'fecha_de_nacimiento': '07/11/2005'}\n",
            "{'apellido': 'Bracamonte Martinez', 'nombre': 'Salvador', 'curso': 5, 'division': 'C', 'fecha_de_nacimiento': '02/11/2005'}\n",
            "{'apellido': 'Salem Barba', 'nombre': 'Mahia', 'curso': 5, 'division': 'D', 'fecha_de_nacimiento': '14/10/2005'}\n",
            "{'apellido': 'Vilte', 'nombre': 'Mia Antonella Alondra', 'curso': 5, 'division': 'C', 'fecha_de_nacimiento': '10/09/2005'}\n",
            "{'apellido': 'Anaquin', 'nombre': 'Leonardo Ezequiel', 'curso': 5, 'division': 'C', 'fecha_de_nacimiento': '06/09/2005'}\n",
            "{'apellido': 'Galvan', 'nombre': 'Lourdes Yamila', 'curso': 5, 'division': 'C', 'fecha_de_nacimiento': '19/08/2005'}\n",
            "{'apellido': 'Messina', 'nombre': 'Martina', 'curso': 5, 'division': 'C', 'fecha_de_nacimiento': '13/07/2005'}\n",
            "{'apellido': 'Lezcano', 'nombre': 'Celia Morena', 'curso': 5, 'division': 'D', 'fecha_de_nacimiento': '01/07/2005'}\n",
            "{'apellido': 'Sierra', 'nombre': 'Lucas Mauricio', 'curso': 5, 'division': 'C', 'fecha_de_nacimiento': '03/04/2005'}\n"
          ]
        }
      ]
    },
    {
      "cell_type": "markdown",
      "source": [
        "11. Generar una estuctura de diccionario anidado en donde la clave sea el nombre del estudiante y el valor sea un diccionario con los datos del mismo, de la siguiente manera:\n",
        "\n",
        "\n",
        "\n",
        "\n",
        "```python\n",
        "estudiantes = {\n",
        "    \"Juan Perez\": {\n",
        "        \"año\": 2024,\n",
        "        \"división\": \"5D\",\n",
        "        \"fecha de nacimiento\": \"15/03/2006\"\n",
        "    },\n",
        "    \"Maria Gomez\": {\n",
        "        \"año\": 2024,\n",
        "        \"división\": \"5D\",\n",
        "        \"fecha de nacimiento\": \"22/07/2006\"\n",
        "    },\n",
        "    \"Carlos Lopez\": {\n",
        "        \"año\": 2024,\n",
        "        \"división\": \"5D\",\n",
        "        \"fecha de nacimiento\": \"05/10/2006\"\n",
        "    }\n",
        "}\n",
        "```\n",
        "\n",
        "\n",
        "\n",
        "\n"
      ],
      "metadata": {
        "id": "vOY6K_ydRc3Q"
      }
    },
    {
      "cell_type": "code",
      "source": [
        "estudiantess={}\n",
        "for estudiante in diccionario:\n",
        "  nombre=estudiante[\"nombre\"],estudiante[\"apellido\"]\n",
        "  año=2024\n",
        "  division=5,estudiante[\"division\"]\n",
        "  fecha_nacimiento=estudiante[\"fecha_de_nacimiento\"]\n",
        "  estudiantess[nombre]={\n",
        "      \"año\":año,\n",
        "      \"división\":division,\n",
        "      \"fecha de nacimiento\":fecha_nacimiento\n",
        "  }\n",
        "for nombre, datos in estudiantess.items():\n",
        "  print(f\"{nombre}: {datos}\")"
      ],
      "metadata": {
        "id": "9JDrd3WqRdTi",
        "outputId": "e94d7ce2-137b-4c9a-a863-f1dbb7fc4374",
        "colab": {
          "base_uri": "https://localhost:8080/"
        }
      },
      "execution_count": 18,
      "outputs": [
        {
          "output_type": "stream",
          "name": "stdout",
          "text": [
            "('Victoria Constanza', 'Lopez'): {'año': 2024, 'división': (5, 'C'), 'fecha de nacimiento': '12/11/2007'}\n",
            "('Karim', 'Rasuk'): {'año': 2024, 'división': (5, 'C'), 'fecha de nacimiento': '13/07/2007'}\n",
            "('Lucas Gabriel', 'Arenas'): {'año': 2024, 'división': (5, 'D'), 'fecha de nacimiento': '26/06/2007'}\n",
            "('Katya Milena', 'Virgillito'): {'año': 2024, 'división': (5, 'C'), 'fecha de nacimiento': '19/06/2007'}\n",
            "('Paulina Milagros', 'Castillo'): {'año': 2024, 'división': (5, 'D'), 'fecha de nacimiento': '01/06/2007'}\n",
            "('Santino Josue', 'Figueroa'): {'año': 2024, 'división': (5, 'C'), 'fecha de nacimiento': '12/05/2007'}\n",
            "('Anita Maria Belen', 'Jaime'): {'año': 2024, 'división': (5, 'D'), 'fecha de nacimiento': '19/04/2007'}\n",
            "('Angélica Morena', 'Guzman'): {'año': 2024, 'división': (5, 'D'), 'fecha de nacimiento': '11/04/2007'}\n",
            "('Solange Stefania', 'Alurralde'): {'año': 2024, 'división': (5, 'D'), 'fecha de nacimiento': '02/04/2007'}\n",
            "('Tomas Andres', 'Martinez'): {'año': 2024, 'división': (5, 'D'), 'fecha de nacimiento': '22/03/2007'}\n",
            "('Vitto Tomasso', 'Giangreco'): {'año': 2024, 'división': (5, 'C'), 'fecha de nacimiento': '21/03/2007'}\n",
            "('Camila Juliana', 'Angel'): {'año': 2024, 'división': (5, 'D'), 'fecha de nacimiento': '07/03/2007'}\n",
            "('Matias Ezequiel', 'Barrera'): {'año': 2024, 'división': (5, 'C'), 'fecha de nacimiento': '27/02/2007'}\n",
            "('Zacarias Josue', 'Retamal Cisneros'): {'año': 2024, 'división': (5, 'D'), 'fecha de nacimiento': '24/02/2007'}\n",
            "('Matías Agustín', 'Sanchez Flores'): {'año': 2024, 'división': (5, 'C'), 'fecha de nacimiento': '15/02/2007'}\n",
            "('Pedro Francisco', 'Portella Valdivia'): {'año': 2024, 'división': (5, 'D'), 'fecha de nacimiento': '24/01/2007'}\n",
            "('Lizzie Amaya', 'Geronimo Soriano'): {'año': 2024, 'división': (5, 'D'), 'fecha de nacimiento': '20/01/2007'}\n",
            "('Sara Elizabeth', 'Guanca'): {'año': 2024, 'división': (5, 'C'), 'fecha de nacimiento': '17/01/2007'}\n",
            "('Ariana Zoe Del Valle', 'Colque Rivero'): {'año': 2024, 'división': (5, 'C'), 'fecha de nacimiento': '27/12/2006'}\n",
            "('Martina Luna', 'Grancara'): {'año': 2024, 'división': (5, 'C'), 'fecha de nacimiento': '15/12/2006'}\n",
            "('Victoria Agustina', 'Flores'): {'año': 2024, 'división': (5, 'D'), 'fecha de nacimiento': '12/12/2006'}\n",
            "('Dulce Maitena', 'Diaz'): {'año': 2024, 'división': (5, 'C'), 'fecha de nacimiento': '11/12/2006'}\n",
            "('Luana Micaela', 'Amador'): {'año': 2024, 'división': (5, 'C'), 'fecha de nacimiento': '09/12/2006'}\n",
            "('Renato Marcelo', 'Scarano'): {'año': 2024, 'división': (5, 'D'), 'fecha de nacimiento': '06/12/2006'}\n",
            "('Lourdes Mariel', 'Abud Laspiur'): {'año': 2024, 'división': (5, 'C'), 'fecha de nacimiento': '05/12/2006'}\n",
            "('Hugo Mariano', 'Correa Segovia'): {'año': 2024, 'división': (5, 'D'), 'fecha de nacimiento': '04/12/2006'}\n",
            "('Francisco Gabriel', 'Rosales'): {'año': 2024, 'división': (5, 'D'), 'fecha de nacimiento': '14/11/2006'}\n",
            "('Martin Ezequiel', 'Marinaro'): {'año': 2024, 'división': (5, 'C'), 'fecha de nacimiento': '03/11/2006'}\n",
            "('Rosario Agostina', 'Mamani Garrido'): {'año': 2024, 'división': (5, 'C'), 'fecha de nacimiento': '24/10/2006'}\n",
            "('Agostina Abril', 'Argañaraz'): {'año': 2024, 'división': (5, 'C'), 'fecha de nacimiento': '11/10/2006'}\n",
            "('Santino Stefano', 'Zalazar'): {'año': 2024, 'división': (5, 'D'), 'fecha de nacimiento': '30/09/2006'}\n",
            "('Lucia Magali', 'Rios'): {'año': 2024, 'división': (5, 'C'), 'fecha de nacimiento': '22/09/2006'}\n",
            "('Emanuel Tobias', 'Voltolini'): {'año': 2024, 'división': (5, 'D'), 'fecha de nacimiento': '17/09/2006'}\n",
            "('Irina', 'Villalba'): {'año': 2024, 'división': (5, 'D'), 'fecha de nacimiento': '09/09/2006'}\n",
            "('Ludmila Del Milagro', 'Alvarado'): {'año': 2024, 'división': (5, 'D'), 'fecha de nacimiento': '06/09/2006'}\n",
            "('Alvaro Tadeo', 'D Elia'): {'año': 2024, 'división': (5, 'D'), 'fecha de nacimiento': '27/08/2006'}\n",
            "('Octavio Ismael', 'Gallo'): {'año': 2024, 'división': (5, 'C'), 'fecha de nacimiento': '04/08/2006'}\n",
            "('Jazmin Esmeralda Belen', 'Guzman'): {'año': 2024, 'división': (5, 'D'), 'fecha de nacimiento': '31/07/2006'}\n",
            "('Valentino', 'Bettinelli'): {'año': 2024, 'división': (5, 'C'), 'fecha de nacimiento': '12/07/2006'}\n",
            "('Maria Antonia', 'Caseres'): {'año': 2024, 'división': (5, 'D'), 'fecha de nacimiento': '01/07/2006'}\n",
            "('Martin Gabriel', 'Tapia'): {'año': 2024, 'división': (5, 'C'), 'fecha de nacimiento': '30/05/2006'}\n",
            "('Joaquin Nicolas', 'Barrozo Vedia'): {'año': 2024, 'división': (5, 'C'), 'fecha de nacimiento': '15/04/2006'}\n",
            "('Agustina Tiara', 'Flores Cardozo'): {'año': 2024, 'división': (5, 'C'), 'fecha de nacimiento': '18/03/2006'}\n",
            "('Marcelo Fabricio', 'Lascano Guanca'): {'año': 2024, 'división': (5, 'D'), 'fecha de nacimiento': '17/02/2006'}\n",
            "('Lautaro Nahuel', 'Araoz Sanchez'): {'año': 2024, 'división': (5, 'C'), 'fecha de nacimiento': '28/12/2005'}\n",
            "('Ignacio', 'Merluzzi Dagum'): {'año': 2024, 'división': (5, 'C'), 'fecha de nacimiento': '22/12/2005'}\n",
            "('Nazarena', 'Lacour Polo'): {'año': 2024, 'división': (5, 'D'), 'fecha de nacimiento': '19/12/2005'}\n",
            "('Agustin Ignacio', 'Soto Camara'): {'año': 2024, 'división': (5, 'D'), 'fecha de nacimiento': '07/11/2005'}\n",
            "('Salvador', 'Bracamonte Martinez'): {'año': 2024, 'división': (5, 'C'), 'fecha de nacimiento': '02/11/2005'}\n",
            "('Mahia', 'Salem Barba'): {'año': 2024, 'división': (5, 'D'), 'fecha de nacimiento': '14/10/2005'}\n",
            "('Mia Antonella Alondra', 'Vilte'): {'año': 2024, 'división': (5, 'C'), 'fecha de nacimiento': '10/09/2005'}\n",
            "('Leonardo Ezequiel', 'Anaquin'): {'año': 2024, 'división': (5, 'C'), 'fecha de nacimiento': '06/09/2005'}\n",
            "('Lourdes Yamila', 'Galvan'): {'año': 2024, 'división': (5, 'C'), 'fecha de nacimiento': '19/08/2005'}\n",
            "('Martina', 'Messina'): {'año': 2024, 'división': (5, 'C'), 'fecha de nacimiento': '13/07/2005'}\n",
            "('Celia Morena', 'Lezcano'): {'año': 2024, 'división': (5, 'D'), 'fecha de nacimiento': '01/07/2005'}\n",
            "('Lucas Mauricio', 'Sierra'): {'año': 2024, 'división': (5, 'C'), 'fecha de nacimiento': '03/04/2005'}\n"
          ]
        }
      ]
    }
  ]
}